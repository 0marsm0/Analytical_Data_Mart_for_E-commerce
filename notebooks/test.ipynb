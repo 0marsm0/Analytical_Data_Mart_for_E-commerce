{
 "cells": [
  {
   "cell_type": "code",
   "execution_count": 10,
   "id": "40148964",
   "metadata": {},
   "outputs": [],
   "source": [
    "import pandas as pd\n",
    "import os\n",
    "\n",
    "DATA_PATH = '../data/'"
   ]
  },
  {
   "cell_type": "code",
   "execution_count": 11,
   "id": "c09fec4d",
   "metadata": {},
   "outputs": [
    {
     "name": "stdout",
     "output_type": "stream",
     "text": [
      "dict_keys(['olist_products_dataset.csv', 'olist_orders_dataset.csv', 'olist_customers_dataset.csv', 'olist_order_items_dataset.csv', 'olist_order_payments_dataset.csv', 'olist_geolocation_dataset.csv', 'olist_sellers_dataset.csv'])\n"
     ]
    }
   ],
   "source": [
    "csv_files = [\n",
    "    'olist_products_dataset.csv',\n",
    "    'olist_orders_dataset.csv',\n",
    "    'olist_customers_dataset.csv',\n",
    "    'olist_order_items_dataset.csv',\n",
    "    'olist_order_payments_dataset.csv',\n",
    "    'olist_geolocation_dataset.csv',\n",
    "    'olist_sellers_dataset.csv'\n",
    "]\n",
    "\n",
    "data = {}\n",
    "\n",
    "for file in csv_files:\n",
    "    df = pd.read_csv(DATA_PATH + file)\n",
    "    data[file] = df\n",
    "\n",
    "print(data.keys())"
   ]
  },
  {
   "cell_type": "code",
   "execution_count": 12,
   "id": "b9f36c44",
   "metadata": {},
   "outputs": [
    {
     "name": "stdout",
     "output_type": "stream",
     "text": [
      "                        customer_id                customer_unique_id  \\\n",
      "0  06b8999e2fba1a1fbc88172c00ba8bc7  861eff4711a542e4b93843c6dd7febb0   \n",
      "1  18955e83d337fd6b2def6b18a428ac77  290c77bc529b7ac935b93aa66c333dc3   \n",
      "2  4e7b3e00288586ebd08712fdd0374a03  060e732b5b29e8181a18229c7b0b2b5e   \n",
      "3  b2b6027bc5c5109e529d4dc6358b12c3  259dac757896d24d7702b9acbbff3f3c   \n",
      "4  4f2d8ab171c80ec8364f7c12e35b23ad  345ecd01c38d18a9036ed96c73b8d066   \n",
      "\n",
      "   customer_zip_code_prefix          customer_city customer_state  \n",
      "0                     14409                 franca             SP  \n",
      "1                      9790  sao bernardo do campo             SP  \n",
      "2                      1151              sao paulo             SP  \n",
      "3                      8775        mogi das cruzes             SP  \n",
      "4                     13056               campinas             SP  \n"
     ]
    }
   ],
   "source": [
    "print(data['olist_customers_dataset.csv'].head())"
   ]
  },
  {
   "cell_type": "code",
   "execution_count": null,
   "id": "b7099dcc",
   "metadata": {},
   "outputs": [],
   "source": []
  }
 ],
 "metadata": {
  "kernelspec": {
   "display_name": "Analytical_Data_Mart_for_E-commerce",
   "language": "python",
   "name": "python3"
  },
  "language_info": {
   "codemirror_mode": {
    "name": "ipython",
    "version": 3
   },
   "file_extension": ".py",
   "mimetype": "text/x-python",
   "name": "python",
   "nbconvert_exporter": "python",
   "pygments_lexer": "ipython3",
   "version": "3.11.8"
  }
 },
 "nbformat": 4,
 "nbformat_minor": 5
}
