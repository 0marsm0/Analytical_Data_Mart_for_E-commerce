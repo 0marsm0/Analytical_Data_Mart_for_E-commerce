{
 "cells": [
  {
   "cell_type": "code",
   "execution_count": 102,
   "id": "40148964",
   "metadata": {},
   "outputs": [],
   "source": [
    "import pandas as pd\n",
    "import os\n",
    "\n",
    "DATA_PATH = '../data/'"
   ]
  },
  {
   "cell_type": "code",
   "execution_count": 103,
   "id": "c09fec4d",
   "metadata": {},
   "outputs": [
    {
     "name": "stdout",
     "output_type": "stream",
     "text": [
      "dict_keys(['olist_products_dataset.csv', 'olist_orders_dataset.csv', 'olist_customers_dataset.csv', 'olist_order_items_dataset.csv', 'olist_order_payments_dataset.csv', 'olist_geolocation_dataset.csv', 'olist_sellers_dataset.csv'])\n"
     ]
    }
   ],
   "source": [
    "csv_files = [\n",
    "    'olist_products_dataset.csv',\n",
    "    'olist_orders_dataset.csv',\n",
    "    'olist_customers_dataset.csv',\n",
    "    'olist_order_items_dataset.csv',\n",
    "    'olist_order_payments_dataset.csv',\n",
    "    'olist_geolocation_dataset.csv',\n",
    "    'olist_sellers_dataset.csv'\n",
    "]\n",
    "\n",
    "data = {}\n",
    "\n",
    "for file in csv_files:\n",
    "    df = pd.read_csv(DATA_PATH + file)\n",
    "    data[file] = df\n",
    "\n",
    "print(data.keys())"
   ]
  },
  {
   "cell_type": "code",
   "execution_count": 104,
   "id": "b9f36c44",
   "metadata": {},
   "outputs": [
    {
     "name": "stdout",
     "output_type": "stream",
     "text": [
      "Index(['product_id', 'product_category_name', 'product_name_lenght',\n",
      "       'product_description_lenght', 'product_photos_qty', 'product_weight_g',\n",
      "       'product_length_cm', 'product_height_cm', 'product_width_cm'],\n",
      "      dtype='object')\n",
      "Index(['order_id', 'customer_id', 'order_status', 'order_purchase_timestamp',\n",
      "       'order_approved_at', 'order_delivered_carrier_date',\n",
      "       'order_delivered_customer_date', 'order_estimated_delivery_date'],\n",
      "      dtype='object')\n",
      "Index(['customer_id', 'customer_unique_id', 'customer_zip_code_prefix',\n",
      "       'customer_city', 'customer_state'],\n",
      "      dtype='object')\n",
      "Index(['order_id', 'order_item_id', 'product_id', 'seller_id',\n",
      "       'shipping_limit_date', 'price', 'freight_value'],\n",
      "      dtype='object')\n",
      "Index(['order_id', 'payment_sequential', 'payment_type',\n",
      "       'payment_installments', 'payment_value'],\n",
      "      dtype='object')\n",
      "Index(['geolocation_zip_code_prefix', 'geolocation_lat', 'geolocation_lng',\n",
      "       'geolocation_city', 'geolocation_state'],\n",
      "      dtype='object')\n",
      "Index(['seller_id', 'seller_zip_code_prefix', 'seller_city', 'seller_state'], dtype='object')\n"
     ]
    }
   ],
   "source": [
    "for key in data.keys():\n",
    "    print(data[key].columns)"
   ]
  },
  {
   "cell_type": "code",
   "execution_count": 105,
   "id": "b7099dcc",
   "metadata": {},
   "outputs": [
    {
     "name": "stdout",
     "output_type": "stream",
     "text": [
      "product_id - <class 'str'>\n",
      "product_category_name - <class 'str'>\n",
      "product_name_lenght - <class 'str'>\n",
      "product_description_lenght - <class 'str'>\n",
      "product_photos_qty - <class 'str'>\n",
      "product_weight_g - <class 'str'>\n",
      "product_length_cm - <class 'str'>\n",
      "product_height_cm - <class 'str'>\n",
      "product_width_cm - <class 'str'>\n",
      "order_id - <class 'str'>\n",
      "customer_id - <class 'str'>\n",
      "order_status - <class 'str'>\n",
      "order_purchase_timestamp - <class 'str'>\n",
      "order_approved_at - <class 'str'>\n",
      "order_delivered_carrier_date - <class 'str'>\n",
      "order_delivered_customer_date - <class 'str'>\n",
      "order_estimated_delivery_date - <class 'str'>\n",
      "customer_id - <class 'str'>\n",
      "customer_unique_id - <class 'str'>\n",
      "customer_zip_code_prefix - <class 'str'>\n",
      "customer_city - <class 'str'>\n",
      "customer_state - <class 'str'>\n",
      "order_id - <class 'str'>\n",
      "order_item_id - <class 'str'>\n",
      "product_id - <class 'str'>\n",
      "seller_id - <class 'str'>\n",
      "shipping_limit_date - <class 'str'>\n",
      "price - <class 'str'>\n",
      "freight_value - <class 'str'>\n",
      "order_id - <class 'str'>\n",
      "payment_sequential - <class 'str'>\n",
      "payment_type - <class 'str'>\n",
      "payment_installments - <class 'str'>\n",
      "payment_value - <class 'str'>\n",
      "geolocation_zip_code_prefix - <class 'str'>\n",
      "geolocation_lat - <class 'str'>\n",
      "geolocation_lng - <class 'str'>\n",
      "geolocation_city - <class 'str'>\n",
      "geolocation_state - <class 'str'>\n",
      "seller_id - <class 'str'>\n",
      "seller_zip_code_prefix - <class 'str'>\n",
      "seller_city - <class 'str'>\n",
      "seller_state - <class 'str'>\n"
     ]
    }
   ],
   "source": [
    "for key in data.keys():\n",
    "    for el in data[key].columns:\n",
    "        print(f'{el} - {type(el)}')"
   ]
  },
  {
   "cell_type": "code",
   "execution_count": 106,
   "id": "69e35fb9",
   "metadata": {},
   "outputs": [
    {
     "data": {
      "text/plain": [
       "Index(['customer_id', 'customer_unique_id', 'customer_zip_code_prefix',\n",
       "       'customer_city', 'customer_state'],\n",
       "      dtype='object')"
      ]
     },
     "execution_count": 106,
     "metadata": {},
     "output_type": "execute_result"
    }
   ],
   "source": [
    "for df in data.values():\n",
    "    df.columns = df.columns.str.lower().str.replace(' ', '_')\n",
    "\n",
    "data['olist_customers_dataset.csv'].columns"
   ]
  },
  {
   "cell_type": "code",
   "execution_count": 107,
   "id": "4d77e2e8",
   "metadata": {},
   "outputs": [
    {
     "data": {
      "text/plain": [
       "order_id                         object\n",
       "customer_id                      object\n",
       "order_status                     object\n",
       "order_purchase_timestamp         object\n",
       "order_approved_at                object\n",
       "order_delivered_carrier_date     object\n",
       "order_delivered_customer_date    object\n",
       "order_estimated_delivery_date    object\n",
       "dtype: object"
      ]
     },
     "execution_count": 107,
     "metadata": {},
     "output_type": "execute_result"
    }
   ],
   "source": [
    "data['olist_orders_dataset.csv'].dtypes"
   ]
  },
  {
   "cell_type": "code",
   "execution_count": 108,
   "id": "8418c0a3",
   "metadata": {},
   "outputs": [
    {
     "data": {
      "text/plain": [
       "order_id                                 object\n",
       "customer_id                              object\n",
       "order_status                             object\n",
       "order_purchase_timestamp         datetime64[ns]\n",
       "order_approved_at                datetime64[ns]\n",
       "order_delivered_carrier_date     datetime64[ns]\n",
       "order_delivered_customer_date    datetime64[ns]\n",
       "order_estimated_delivery_date    datetime64[ns]\n",
       "dtype: object"
      ]
     },
     "execution_count": 108,
     "metadata": {},
     "output_type": "execute_result"
    }
   ],
   "source": [
    "for key in data.keys():\n",
    "    for el in data[key].columns:\n",
    "        columns = [\"order_purchase_timestamp\",\"order_approved_at\",\"order_delivered_carrier_date\",\"order_delivered_customer_date\",\"order_estimated_delivery_date\"]\n",
    "        if el in columns:\n",
    "            data[key][el] = pd.to_datetime(data[key][el])\n",
    "\n",
    "data['olist_orders_dataset.csv'].dtypes"
   ]
  },
  {
   "cell_type": "code",
   "execution_count": 114,
   "id": "ea3b4eb6",
   "metadata": {},
   "outputs": [
    {
     "name": "stdout",
     "output_type": "stream",
     "text": [
      "<class 'pandas.core.frame.DataFrame'>\n",
      "RangeIndex: 32951 entries, 0 to 32950\n",
      "Data columns (total 9 columns):\n",
      " #   Column                      Non-Null Count  Dtype \n",
      "---  ------                      --------------  ----- \n",
      " 0   product_id                  32951 non-null  object\n",
      " 1   product_category_name       32341 non-null  object\n",
      " 2   product_name_lenght         32341 non-null  Int64 \n",
      " 3   product_description_lenght  32341 non-null  Int64 \n",
      " 4   product_photos_qty          32341 non-null  Int64 \n",
      " 5   product_weight_g            32949 non-null  Int64 \n",
      " 6   product_length_cm           32949 non-null  Int64 \n",
      " 7   product_height_cm           32949 non-null  Int64 \n",
      " 8   product_width_cm            32949 non-null  Int64 \n",
      "dtypes: Int64(7), object(2)\n",
      "memory usage: 2.5+ MB\n"
     ]
    }
   ],
   "source": [
    "def preprocess_data(data_dict):\n",
    "\n",
    "    data_change_dict = {\n",
    "        \"olist_order_items_dataset.csv\" : {\n",
    "            \"order_item_id\" : \"int\",\n",
    "            \"price\" : \"float\",\n",
    "            \"freight_value\" : \"float\"\n",
    "        },\n",
    "        \"olist_order_payments_dataset.csv\" : {\n",
    "            \"payment_sequential\" : \"int\",\n",
    "            \"payment_installments\" : \"int\",\n",
    "            \"payment_value\" : \"float\"\n",
    "        },\n",
    "        \"olist_orders_dataset.csv\" : {\n",
    "            \"order_purchase_timestamp\" : \"datetime\",\n",
    "            \"order_approved_at\" : \"datetime\",\n",
    "            \"order_delivered_carrier_date\" : \"datetime\",\n",
    "            \"order_delivered_customer_date\" : \"datetime\",\n",
    "            \"order_estimated_delivery_date\" : \"datetime\",\n",
    "        },\n",
    "        \"olist_products_dataset.csv\" : {\n",
    "            \"product_name_lenght\" : \"int\",\n",
    "            \"product_description_lenght\" : \"int\",\n",
    "            \"product_photos_qty\" : \"int\",\n",
    "            \"product_weight_g\" : \"int\",\n",
    "            \"product_length_cm\" : \"int\",\n",
    "            \"product_height_cm\" : \"int\",\n",
    "            \"product_width_cm\" : \"int\"\n",
    "        }\n",
    "    }\n",
    "\n",
    "    for key in data_change_dict.keys():\n",
    "        for column, value in data_change_dict[key].items():\n",
    "            match value:\n",
    "                case \"int\":\n",
    "                    data_dict[key][column] = data_dict[key][column].astype(\"Int64\")\n",
    "                case \"float\":\n",
    "                    data_dict[key][column] = data_dict[key][column].astype(float)\n",
    "                case \"datetime\":\n",
    "                    data_dict[key][column] = pd.to_datetime(data_dict[key][column])\n",
    "    \n",
    "\n",
    "    return data_dict\n",
    "\n",
    "preprocess_data(data)[\"olist_products_dataset.csv\"].info()"
   ]
  },
  {
   "cell_type": "code",
   "execution_count": 115,
   "id": "f5530f0f",
   "metadata": {},
   "outputs": [
    {
     "name": "stdout",
     "output_type": "stream",
     "text": [
      "olist_products_dataset.csv\n",
      "olist_orders_dataset.csv\n",
      "olist_customers_dataset.csv\n",
      "olist_order_items_dataset.csv\n",
      "olist_order_payments_dataset.csv\n",
      "olist_geolocation_dataset.csv\n",
      "olist_sellers_dataset.csv\n"
     ]
    }
   ],
   "source": [
    "for key in data:\n",
    "    print(key)"
   ]
  },
  {
   "cell_type": "code",
   "execution_count": 119,
   "id": "b3eefd89",
   "metadata": {},
   "outputs": [
    {
     "name": "stdout",
     "output_type": "stream",
     "text": [
      "products\n",
      "orders\n",
      "customers\n",
      "order_items\n",
      "order_payments\n",
      "geolocation\n",
      "sellers\n"
     ]
    }
   ],
   "source": [
    "for key in data:\n",
    "    print(key.replace('olist_', '').replace('_dataset.csv', ''))"
   ]
  },
  {
   "cell_type": "code",
   "execution_count": 122,
   "id": "30bc5f9a",
   "metadata": {},
   "outputs": [
    {
     "name": "stdout",
     "output_type": "stream",
     "text": [
      "olist_products_dataset.csv\n",
      "olist_orders_dataset.csv\n",
      "olist_customers_dataset.csv\n",
      "olist_order_items_dataset.csv\n",
      "olist_order_payments_dataset.csv\n",
      "olist_geolocation_dataset.csv\n",
      "olist_sellers_dataset.csv\n"
     ]
    }
   ],
   "source": [
    "for df in data:\n",
    "    print(df)"
   ]
  },
  {
   "cell_type": "code",
   "execution_count": null,
   "id": "50e9f139",
   "metadata": {},
   "outputs": [],
   "source": []
  }
 ],
 "metadata": {
  "kernelspec": {
   "display_name": "Analytical_Data_Mart_for_E-commerce",
   "language": "python",
   "name": "python3"
  },
  "language_info": {
   "codemirror_mode": {
    "name": "ipython",
    "version": 3
   },
   "file_extension": ".py",
   "mimetype": "text/x-python",
   "name": "python",
   "nbconvert_exporter": "python",
   "pygments_lexer": "ipython3",
   "version": "3.11.8"
  }
 },
 "nbformat": 4,
 "nbformat_minor": 5
}
