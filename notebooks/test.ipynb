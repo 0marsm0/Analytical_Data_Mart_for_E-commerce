{
 "cells": [
  {
   "cell_type": "code",
   "execution_count": 83,
   "id": "40148964",
   "metadata": {},
   "outputs": [],
   "source": [
    "import pandas as pd\n",
    "import os\n",
    "\n",
    "DATA_PATH = '../data/'"
   ]
  },
  {
   "cell_type": "code",
   "execution_count": 84,
   "id": "c09fec4d",
   "metadata": {},
   "outputs": [
    {
     "name": "stdout",
     "output_type": "stream",
     "text": [
      "dict_keys(['olist_products_dataset.csv', 'olist_orders_dataset.csv', 'olist_customers_dataset.csv', 'olist_order_items_dataset.csv', 'olist_order_payments_dataset.csv', 'olist_geolocation_dataset.csv', 'olist_sellers_dataset.csv'])\n"
     ]
    }
   ],
   "source": [
    "csv_files = [\n",
    "    'olist_products_dataset.csv',\n",
    "    'olist_orders_dataset.csv',\n",
    "    'olist_customers_dataset.csv',\n",
    "    'olist_order_items_dataset.csv',\n",
    "    'olist_order_payments_dataset.csv',\n",
    "    'olist_geolocation_dataset.csv',\n",
    "    'olist_sellers_dataset.csv'\n",
    "]\n",
    "\n",
    "data = {}\n",
    "\n",
    "for file in csv_files:\n",
    "    df = pd.read_csv(DATA_PATH + file)\n",
    "    data[file] = df\n",
    "\n",
    "print(data.keys())"
   ]
  },
  {
   "cell_type": "code",
   "execution_count": 85,
   "id": "b9f36c44",
   "metadata": {},
   "outputs": [
    {
     "name": "stdout",
     "output_type": "stream",
     "text": [
      "Index(['product_id', 'product_category_name', 'product_name_lenght',\n",
      "       'product_description_lenght', 'product_photos_qty', 'product_weight_g',\n",
      "       'product_length_cm', 'product_height_cm', 'product_width_cm'],\n",
      "      dtype='object')\n",
      "Index(['order_id', 'customer_id', 'order_status', 'order_purchase_timestamp',\n",
      "       'order_approved_at', 'order_delivered_carrier_date',\n",
      "       'order_delivered_customer_date', 'order_estimated_delivery_date'],\n",
      "      dtype='object')\n",
      "Index(['customer_id', 'customer_unique_id', 'customer_zip_code_prefix',\n",
      "       'customer_city', 'customer_state'],\n",
      "      dtype='object')\n",
      "Index(['order_id', 'order_item_id', 'product_id', 'seller_id',\n",
      "       'shipping_limit_date', 'price', 'freight_value'],\n",
      "      dtype='object')\n",
      "Index(['order_id', 'payment_sequential', 'payment_type',\n",
      "       'payment_installments', 'payment_value'],\n",
      "      dtype='object')\n",
      "Index(['geolocation_zip_code_prefix', 'geolocation_lat', 'geolocation_lng',\n",
      "       'geolocation_city', 'geolocation_state'],\n",
      "      dtype='object')\n",
      "Index(['seller_id', 'seller_zip_code_prefix', 'seller_city', 'seller_state'], dtype='object')\n"
     ]
    }
   ],
   "source": [
    "for key in data.keys():\n",
    "    print(data[key].columns)"
   ]
  },
  {
   "cell_type": "code",
   "execution_count": 86,
   "id": "b7099dcc",
   "metadata": {},
   "outputs": [
    {
     "name": "stdout",
     "output_type": "stream",
     "text": [
      "product_id - <class 'str'>\n",
      "product_category_name - <class 'str'>\n",
      "product_name_lenght - <class 'str'>\n",
      "product_description_lenght - <class 'str'>\n",
      "product_photos_qty - <class 'str'>\n",
      "product_weight_g - <class 'str'>\n",
      "product_length_cm - <class 'str'>\n",
      "product_height_cm - <class 'str'>\n",
      "product_width_cm - <class 'str'>\n",
      "order_id - <class 'str'>\n",
      "customer_id - <class 'str'>\n",
      "order_status - <class 'str'>\n",
      "order_purchase_timestamp - <class 'str'>\n",
      "order_approved_at - <class 'str'>\n",
      "order_delivered_carrier_date - <class 'str'>\n",
      "order_delivered_customer_date - <class 'str'>\n",
      "order_estimated_delivery_date - <class 'str'>\n",
      "customer_id - <class 'str'>\n",
      "customer_unique_id - <class 'str'>\n",
      "customer_zip_code_prefix - <class 'str'>\n",
      "customer_city - <class 'str'>\n",
      "customer_state - <class 'str'>\n",
      "order_id - <class 'str'>\n",
      "order_item_id - <class 'str'>\n",
      "product_id - <class 'str'>\n",
      "seller_id - <class 'str'>\n",
      "shipping_limit_date - <class 'str'>\n",
      "price - <class 'str'>\n",
      "freight_value - <class 'str'>\n",
      "order_id - <class 'str'>\n",
      "payment_sequential - <class 'str'>\n",
      "payment_type - <class 'str'>\n",
      "payment_installments - <class 'str'>\n",
      "payment_value - <class 'str'>\n",
      "geolocation_zip_code_prefix - <class 'str'>\n",
      "geolocation_lat - <class 'str'>\n",
      "geolocation_lng - <class 'str'>\n",
      "geolocation_city - <class 'str'>\n",
      "geolocation_state - <class 'str'>\n",
      "seller_id - <class 'str'>\n",
      "seller_zip_code_prefix - <class 'str'>\n",
      "seller_city - <class 'str'>\n",
      "seller_state - <class 'str'>\n"
     ]
    }
   ],
   "source": [
    "for key in data.keys():\n",
    "    for el in data[key].columns:\n",
    "        print(f'{el} - {type(el)}')"
   ]
  },
  {
   "cell_type": "code",
   "execution_count": 87,
   "id": "69e35fb9",
   "metadata": {},
   "outputs": [
    {
     "data": {
      "text/plain": [
       "Index(['customer_id', 'customer_unique_id', 'customer_zip_code_prefix',\n",
       "       'customer_city', 'customer_state'],\n",
       "      dtype='object')"
      ]
     },
     "execution_count": 87,
     "metadata": {},
     "output_type": "execute_result"
    }
   ],
   "source": [
    "for df in data.values():\n",
    "    df.columns = df.columns.str.lower().str.replace(' ', '_')\n",
    "\n",
    "data['olist_customers_dataset.csv'].columns"
   ]
  },
  {
   "cell_type": "code",
   "execution_count": 88,
   "id": "4d77e2e8",
   "metadata": {},
   "outputs": [
    {
     "data": {
      "text/plain": [
       "order_id                         object\n",
       "customer_id                      object\n",
       "order_status                     object\n",
       "order_purchase_timestamp         object\n",
       "order_approved_at                object\n",
       "order_delivered_carrier_date     object\n",
       "order_delivered_customer_date    object\n",
       "order_estimated_delivery_date    object\n",
       "dtype: object"
      ]
     },
     "execution_count": 88,
     "metadata": {},
     "output_type": "execute_result"
    }
   ],
   "source": [
    "data['olist_orders_dataset.csv'].dtypes"
   ]
  },
  {
   "cell_type": "code",
   "execution_count": 91,
   "id": "8418c0a3",
   "metadata": {},
   "outputs": [
    {
     "data": {
      "text/plain": [
       "order_id                                 object\n",
       "customer_id                              object\n",
       "order_status                             object\n",
       "order_purchase_timestamp         datetime64[ns]\n",
       "order_approved_at                datetime64[ns]\n",
       "order_delivered_carrier_date     datetime64[ns]\n",
       "order_delivered_customer_date    datetime64[ns]\n",
       "order_estimated_delivery_date    datetime64[ns]\n",
       "dtype: object"
      ]
     },
     "execution_count": 91,
     "metadata": {},
     "output_type": "execute_result"
    }
   ],
   "source": [
    "for key in data.keys():\n",
    "    for el in data[key].columns:\n",
    "        columns = [\"order_purchase_timestamp\",\"order_approved_at\",\"order_delivered_carrier_date\",\"order_delivered_customer_date\",\"order_estimated_delivery_date\"]\n",
    "        if el in columns:\n",
    "            data[key][el] = pd.to_datetime(data[key][el])\n",
    "\n",
    "data['olist_orders_dataset.csv'].dtypes"
   ]
  },
  {
   "cell_type": "code",
   "execution_count": null,
   "id": "ea3b4eb6",
   "metadata": {},
   "outputs": [],
   "source": [
    "date_columns = [\n",
    "    \"order_purchase_timestamp\",\n",
    "    \"order_approved_at\",\n",
    "    \"order_delivered_carrier_date\",\n",
    "    \"order_delivered_customer_date\",\n",
    "    \"order_estimated_delivery_date\"\n",
    "]\n",
    "\n",
    "# Имя конкретного DataFrame, с которым мы работаем\n",
    "orders_df_name = 'olist_orders_dataset.csv'\n",
    "\n",
    "# Сначала убедимся, что нужный DataFrame вообще существует в наших данных\n",
    "if orders_df_name in data:\n",
    "    print(f\"Processing dates for {orders_df_name}...\")\n",
    "    \n",
    "    # Теперь перебираем ТОЛЬКО те 5 колонок, которые нам нужны\n",
    "    for col_name in date_columns:\n",
    "        # Ваш код для преобразования колонки data[orders_df_name][col_name]\n",
    "        # ...\n",
    "else:\n",
    "    print(f\"Warning: DataFrame {orders_df_name} not found.\")"
   ]
  }
 ],
 "metadata": {
  "kernelspec": {
   "display_name": "Analytical_Data_Mart_for_E-commerce",
   "language": "python",
   "name": "python3"
  },
  "language_info": {
   "codemirror_mode": {
    "name": "ipython",
    "version": 3
   },
   "file_extension": ".py",
   "mimetype": "text/x-python",
   "name": "python",
   "nbconvert_exporter": "python",
   "pygments_lexer": "ipython3",
   "version": "3.11.8"
  }
 },
 "nbformat": 4,
 "nbformat_minor": 5
}
